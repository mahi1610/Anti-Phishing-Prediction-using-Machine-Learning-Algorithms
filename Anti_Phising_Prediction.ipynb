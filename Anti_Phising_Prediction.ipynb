{
  "cells": [
    {
      "cell_type": "markdown",
      "source": [
        "Name: Mahi Maanas Reddy<br>\n",
        "ASSIGNMENT 1"
      ],
      "metadata": {
        "id": "t0wOVbm7peG5"
      }
    },
    {
      "cell_type": "code",
      "execution_count": 27,
      "metadata": {
        "id": "PeVhRWxbCeTN"
      },
      "outputs": [],
      "source": [
        "import pandas as pd\n",
        "import numpy as np\n",
        "import matplotlib.pyplot as plt\n",
        "import seaborn as sb"
      ]
    },
    {
      "cell_type": "code",
      "execution_count": 28,
      "metadata": {
        "colab": {
          "base_uri": "https://localhost:8080/",
          "height": 297
        },
        "id": "ga3zbZ77DGgg",
        "outputId": "a46378e8-aecf-4afd-b2d6-6093656c8a3f"
      },
      "outputs": [
        {
          "output_type": "execute_result",
          "data": {
            "text/plain": [
              "   id  NumDots  SubdomainLevel  PathLevel  UrlLength  NumDash  \\\n",
              "0   1        3               1          5         72        0   \n",
              "1   2        3               1          3        144        0   \n",
              "2   3        3               1          2         58        0   \n",
              "3   4        3               1          6         79        1   \n",
              "4   5        3               0          4         46        0   \n",
              "\n",
              "   NumDashInHostname  AtSymbol  TildeSymbol  NumUnderscore  ...  \\\n",
              "0                  0         0            0              0  ...   \n",
              "1                  0         0            0              2  ...   \n",
              "2                  0         0            0              0  ...   \n",
              "3                  0         0            0              0  ...   \n",
              "4                  0         0            0              0  ...   \n",
              "\n",
              "   IframeOrFrame  MissingTitle  ImagesOnlyInForm  SubdomainLevelRT  \\\n",
              "0              0             0                 1                 1   \n",
              "1              0             0                 0                 1   \n",
              "2              0             0                 0                 1   \n",
              "3              0             0                 0                 1   \n",
              "4              1             0                 0                 1   \n",
              "\n",
              "   UrlLengthRT  PctExtResourceUrlsRT  AbnormalExtFormActionR  \\\n",
              "0            0                     1                       1   \n",
              "1           -1                     1                       1   \n",
              "2            0                    -1                       1   \n",
              "3           -1                     1                       1   \n",
              "4            1                    -1                       0   \n",
              "\n",
              "   ExtMetaScriptLinkRT  PctExtNullSelfRedirectHyperlinksRT  CLASS_LABEL  \n",
              "0                   -1                                   1            1  \n",
              "1                    1                                   1            1  \n",
              "2                   -1                                   0            1  \n",
              "3                    1                                  -1            1  \n",
              "4                   -1                                  -1            1  \n",
              "\n",
              "[5 rows x 50 columns]"
            ],
            "text/html": [
              "\n",
              "  <div id=\"df-80e169ac-ea1c-466b-8dba-d1ec949063b0\">\n",
              "    <div class=\"colab-df-container\">\n",
              "      <div>\n",
              "<style scoped>\n",
              "    .dataframe tbody tr th:only-of-type {\n",
              "        vertical-align: middle;\n",
              "    }\n",
              "\n",
              "    .dataframe tbody tr th {\n",
              "        vertical-align: top;\n",
              "    }\n",
              "\n",
              "    .dataframe thead th {\n",
              "        text-align: right;\n",
              "    }\n",
              "</style>\n",
              "<table border=\"1\" class=\"dataframe\">\n",
              "  <thead>\n",
              "    <tr style=\"text-align: right;\">\n",
              "      <th></th>\n",
              "      <th>id</th>\n",
              "      <th>NumDots</th>\n",
              "      <th>SubdomainLevel</th>\n",
              "      <th>PathLevel</th>\n",
              "      <th>UrlLength</th>\n",
              "      <th>NumDash</th>\n",
              "      <th>NumDashInHostname</th>\n",
              "      <th>AtSymbol</th>\n",
              "      <th>TildeSymbol</th>\n",
              "      <th>NumUnderscore</th>\n",
              "      <th>...</th>\n",
              "      <th>IframeOrFrame</th>\n",
              "      <th>MissingTitle</th>\n",
              "      <th>ImagesOnlyInForm</th>\n",
              "      <th>SubdomainLevelRT</th>\n",
              "      <th>UrlLengthRT</th>\n",
              "      <th>PctExtResourceUrlsRT</th>\n",
              "      <th>AbnormalExtFormActionR</th>\n",
              "      <th>ExtMetaScriptLinkRT</th>\n",
              "      <th>PctExtNullSelfRedirectHyperlinksRT</th>\n",
              "      <th>CLASS_LABEL</th>\n",
              "    </tr>\n",
              "  </thead>\n",
              "  <tbody>\n",
              "    <tr>\n",
              "      <th>0</th>\n",
              "      <td>1</td>\n",
              "      <td>3</td>\n",
              "      <td>1</td>\n",
              "      <td>5</td>\n",
              "      <td>72</td>\n",
              "      <td>0</td>\n",
              "      <td>0</td>\n",
              "      <td>0</td>\n",
              "      <td>0</td>\n",
              "      <td>0</td>\n",
              "      <td>...</td>\n",
              "      <td>0</td>\n",
              "      <td>0</td>\n",
              "      <td>1</td>\n",
              "      <td>1</td>\n",
              "      <td>0</td>\n",
              "      <td>1</td>\n",
              "      <td>1</td>\n",
              "      <td>-1</td>\n",
              "      <td>1</td>\n",
              "      <td>1</td>\n",
              "    </tr>\n",
              "    <tr>\n",
              "      <th>1</th>\n",
              "      <td>2</td>\n",
              "      <td>3</td>\n",
              "      <td>1</td>\n",
              "      <td>3</td>\n",
              "      <td>144</td>\n",
              "      <td>0</td>\n",
              "      <td>0</td>\n",
              "      <td>0</td>\n",
              "      <td>0</td>\n",
              "      <td>2</td>\n",
              "      <td>...</td>\n",
              "      <td>0</td>\n",
              "      <td>0</td>\n",
              "      <td>0</td>\n",
              "      <td>1</td>\n",
              "      <td>-1</td>\n",
              "      <td>1</td>\n",
              "      <td>1</td>\n",
              "      <td>1</td>\n",
              "      <td>1</td>\n",
              "      <td>1</td>\n",
              "    </tr>\n",
              "    <tr>\n",
              "      <th>2</th>\n",
              "      <td>3</td>\n",
              "      <td>3</td>\n",
              "      <td>1</td>\n",
              "      <td>2</td>\n",
              "      <td>58</td>\n",
              "      <td>0</td>\n",
              "      <td>0</td>\n",
              "      <td>0</td>\n",
              "      <td>0</td>\n",
              "      <td>0</td>\n",
              "      <td>...</td>\n",
              "      <td>0</td>\n",
              "      <td>0</td>\n",
              "      <td>0</td>\n",
              "      <td>1</td>\n",
              "      <td>0</td>\n",
              "      <td>-1</td>\n",
              "      <td>1</td>\n",
              "      <td>-1</td>\n",
              "      <td>0</td>\n",
              "      <td>1</td>\n",
              "    </tr>\n",
              "    <tr>\n",
              "      <th>3</th>\n",
              "      <td>4</td>\n",
              "      <td>3</td>\n",
              "      <td>1</td>\n",
              "      <td>6</td>\n",
              "      <td>79</td>\n",
              "      <td>1</td>\n",
              "      <td>0</td>\n",
              "      <td>0</td>\n",
              "      <td>0</td>\n",
              "      <td>0</td>\n",
              "      <td>...</td>\n",
              "      <td>0</td>\n",
              "      <td>0</td>\n",
              "      <td>0</td>\n",
              "      <td>1</td>\n",
              "      <td>-1</td>\n",
              "      <td>1</td>\n",
              "      <td>1</td>\n",
              "      <td>1</td>\n",
              "      <td>-1</td>\n",
              "      <td>1</td>\n",
              "    </tr>\n",
              "    <tr>\n",
              "      <th>4</th>\n",
              "      <td>5</td>\n",
              "      <td>3</td>\n",
              "      <td>0</td>\n",
              "      <td>4</td>\n",
              "      <td>46</td>\n",
              "      <td>0</td>\n",
              "      <td>0</td>\n",
              "      <td>0</td>\n",
              "      <td>0</td>\n",
              "      <td>0</td>\n",
              "      <td>...</td>\n",
              "      <td>1</td>\n",
              "      <td>0</td>\n",
              "      <td>0</td>\n",
              "      <td>1</td>\n",
              "      <td>1</td>\n",
              "      <td>-1</td>\n",
              "      <td>0</td>\n",
              "      <td>-1</td>\n",
              "      <td>-1</td>\n",
              "      <td>1</td>\n",
              "    </tr>\n",
              "  </tbody>\n",
              "</table>\n",
              "<p>5 rows × 50 columns</p>\n",
              "</div>\n",
              "      <button class=\"colab-df-convert\" onclick=\"convertToInteractive('df-80e169ac-ea1c-466b-8dba-d1ec949063b0')\"\n",
              "              title=\"Convert this dataframe to an interactive table.\"\n",
              "              style=\"display:none;\">\n",
              "        \n",
              "  <svg xmlns=\"http://www.w3.org/2000/svg\" height=\"24px\"viewBox=\"0 0 24 24\"\n",
              "       width=\"24px\">\n",
              "    <path d=\"M0 0h24v24H0V0z\" fill=\"none\"/>\n",
              "    <path d=\"M18.56 5.44l.94 2.06.94-2.06 2.06-.94-2.06-.94-.94-2.06-.94 2.06-2.06.94zm-11 1L8.5 8.5l.94-2.06 2.06-.94-2.06-.94L8.5 2.5l-.94 2.06-2.06.94zm10 10l.94 2.06.94-2.06 2.06-.94-2.06-.94-.94-2.06-.94 2.06-2.06.94z\"/><path d=\"M17.41 7.96l-1.37-1.37c-.4-.4-.92-.59-1.43-.59-.52 0-1.04.2-1.43.59L10.3 9.45l-7.72 7.72c-.78.78-.78 2.05 0 2.83L4 21.41c.39.39.9.59 1.41.59.51 0 1.02-.2 1.41-.59l7.78-7.78 2.81-2.81c.8-.78.8-2.07 0-2.86zM5.41 20L4 18.59l7.72-7.72 1.47 1.35L5.41 20z\"/>\n",
              "  </svg>\n",
              "      </button>\n",
              "      \n",
              "  <style>\n",
              "    .colab-df-container {\n",
              "      display:flex;\n",
              "      flex-wrap:wrap;\n",
              "      gap: 12px;\n",
              "    }\n",
              "\n",
              "    .colab-df-convert {\n",
              "      background-color: #E8F0FE;\n",
              "      border: none;\n",
              "      border-radius: 50%;\n",
              "      cursor: pointer;\n",
              "      display: none;\n",
              "      fill: #1967D2;\n",
              "      height: 32px;\n",
              "      padding: 0 0 0 0;\n",
              "      width: 32px;\n",
              "    }\n",
              "\n",
              "    .colab-df-convert:hover {\n",
              "      background-color: #E2EBFA;\n",
              "      box-shadow: 0px 1px 2px rgba(60, 64, 67, 0.3), 0px 1px 3px 1px rgba(60, 64, 67, 0.15);\n",
              "      fill: #174EA6;\n",
              "    }\n",
              "\n",
              "    [theme=dark] .colab-df-convert {\n",
              "      background-color: #3B4455;\n",
              "      fill: #D2E3FC;\n",
              "    }\n",
              "\n",
              "    [theme=dark] .colab-df-convert:hover {\n",
              "      background-color: #434B5C;\n",
              "      box-shadow: 0px 1px 3px 1px rgba(0, 0, 0, 0.15);\n",
              "      filter: drop-shadow(0px 1px 2px rgba(0, 0, 0, 0.3));\n",
              "      fill: #FFFFFF;\n",
              "    }\n",
              "  </style>\n",
              "\n",
              "      <script>\n",
              "        const buttonEl =\n",
              "          document.querySelector('#df-80e169ac-ea1c-466b-8dba-d1ec949063b0 button.colab-df-convert');\n",
              "        buttonEl.style.display =\n",
              "          google.colab.kernel.accessAllowed ? 'block' : 'none';\n",
              "\n",
              "        async function convertToInteractive(key) {\n",
              "          const element = document.querySelector('#df-80e169ac-ea1c-466b-8dba-d1ec949063b0');\n",
              "          const dataTable =\n",
              "            await google.colab.kernel.invokeFunction('convertToInteractive',\n",
              "                                                     [key], {});\n",
              "          if (!dataTable) return;\n",
              "\n",
              "          const docLinkHtml = 'Like what you see? Visit the ' +\n",
              "            '<a target=\"_blank\" href=https://colab.research.google.com/notebooks/data_table.ipynb>data table notebook</a>'\n",
              "            + ' to learn more about interactive tables.';\n",
              "          element.innerHTML = '';\n",
              "          dataTable['output_type'] = 'display_data';\n",
              "          await google.colab.output.renderOutput(dataTable, element);\n",
              "          const docLink = document.createElement('div');\n",
              "          docLink.innerHTML = docLinkHtml;\n",
              "          element.appendChild(docLink);\n",
              "        }\n",
              "      </script>\n",
              "    </div>\n",
              "  </div>\n",
              "  "
            ]
          },
          "metadata": {},
          "execution_count": 28
        }
      ],
      "source": [
        "dataset = pd.read_csv(\"/content/Phishing_Legitimate_full.csv\")\n",
        "dataset.head()"
      ]
    },
    {
      "cell_type": "code",
      "execution_count": 29,
      "metadata": {
        "colab": {
          "base_uri": "https://localhost:8080/",
          "height": 297
        },
        "id": "EAwzUV9MEFrf",
        "outputId": "63dde385-3bbd-4619-a8fa-416d1d59bf26"
      },
      "outputs": [
        {
          "output_type": "execute_result",
          "data": {
            "text/plain": [
              "         id  NumDots  SubdomainLevel  PathLevel  UrlLength  NumDash  \\\n",
              "9995   9996        3               1          1         50        0   \n",
              "9996   9997        2               1          4         59        1   \n",
              "9997   9998        2               1          4         57        0   \n",
              "9998   9999        3               1          1         49        0   \n",
              "9999  10000        3               1          2         52        3   \n",
              "\n",
              "      NumDashInHostname  AtSymbol  TildeSymbol  NumUnderscore  ...  \\\n",
              "9995                  0         0            0              0  ...   \n",
              "9996                  0         0            0              0  ...   \n",
              "9997                  0         0            0              0  ...   \n",
              "9998                  0         0            0              0  ...   \n",
              "9999                  0         0            0              0  ...   \n",
              "\n",
              "      IframeOrFrame  MissingTitle  ImagesOnlyInForm  SubdomainLevelRT  \\\n",
              "9995              0             0                 0                 1   \n",
              "9996              1             0                 0                 1   \n",
              "9997              0             0                 0                 1   \n",
              "9998              1             0                 0                 1   \n",
              "9999              0             0                 0                 1   \n",
              "\n",
              "      UrlLengthRT  PctExtResourceUrlsRT  AbnormalExtFormActionR  \\\n",
              "9995            1                    -1                       1   \n",
              "9996            0                     0                       1   \n",
              "9997            0                     1                       1   \n",
              "9998            1                     0                       1   \n",
              "9999            1                     1                       1   \n",
              "\n",
              "      ExtMetaScriptLinkRT  PctExtNullSelfRedirectHyperlinksRT  CLASS_LABEL  \n",
              "9995                    0                                   1            0  \n",
              "9996                    0                                   1            0  \n",
              "9997                    0                                   1            0  \n",
              "9998                    0                                   1            0  \n",
              "9999                    1                                   1            0  \n",
              "\n",
              "[5 rows x 50 columns]"
            ],
            "text/html": [
              "\n",
              "  <div id=\"df-1956d304-a171-4b65-a95c-ef7cb12e9d5d\">\n",
              "    <div class=\"colab-df-container\">\n",
              "      <div>\n",
              "<style scoped>\n",
              "    .dataframe tbody tr th:only-of-type {\n",
              "        vertical-align: middle;\n",
              "    }\n",
              "\n",
              "    .dataframe tbody tr th {\n",
              "        vertical-align: top;\n",
              "    }\n",
              "\n",
              "    .dataframe thead th {\n",
              "        text-align: right;\n",
              "    }\n",
              "</style>\n",
              "<table border=\"1\" class=\"dataframe\">\n",
              "  <thead>\n",
              "    <tr style=\"text-align: right;\">\n",
              "      <th></th>\n",
              "      <th>id</th>\n",
              "      <th>NumDots</th>\n",
              "      <th>SubdomainLevel</th>\n",
              "      <th>PathLevel</th>\n",
              "      <th>UrlLength</th>\n",
              "      <th>NumDash</th>\n",
              "      <th>NumDashInHostname</th>\n",
              "      <th>AtSymbol</th>\n",
              "      <th>TildeSymbol</th>\n",
              "      <th>NumUnderscore</th>\n",
              "      <th>...</th>\n",
              "      <th>IframeOrFrame</th>\n",
              "      <th>MissingTitle</th>\n",
              "      <th>ImagesOnlyInForm</th>\n",
              "      <th>SubdomainLevelRT</th>\n",
              "      <th>UrlLengthRT</th>\n",
              "      <th>PctExtResourceUrlsRT</th>\n",
              "      <th>AbnormalExtFormActionR</th>\n",
              "      <th>ExtMetaScriptLinkRT</th>\n",
              "      <th>PctExtNullSelfRedirectHyperlinksRT</th>\n",
              "      <th>CLASS_LABEL</th>\n",
              "    </tr>\n",
              "  </thead>\n",
              "  <tbody>\n",
              "    <tr>\n",
              "      <th>9995</th>\n",
              "      <td>9996</td>\n",
              "      <td>3</td>\n",
              "      <td>1</td>\n",
              "      <td>1</td>\n",
              "      <td>50</td>\n",
              "      <td>0</td>\n",
              "      <td>0</td>\n",
              "      <td>0</td>\n",
              "      <td>0</td>\n",
              "      <td>0</td>\n",
              "      <td>...</td>\n",
              "      <td>0</td>\n",
              "      <td>0</td>\n",
              "      <td>0</td>\n",
              "      <td>1</td>\n",
              "      <td>1</td>\n",
              "      <td>-1</td>\n",
              "      <td>1</td>\n",
              "      <td>0</td>\n",
              "      <td>1</td>\n",
              "      <td>0</td>\n",
              "    </tr>\n",
              "    <tr>\n",
              "      <th>9996</th>\n",
              "      <td>9997</td>\n",
              "      <td>2</td>\n",
              "      <td>1</td>\n",
              "      <td>4</td>\n",
              "      <td>59</td>\n",
              "      <td>1</td>\n",
              "      <td>0</td>\n",
              "      <td>0</td>\n",
              "      <td>0</td>\n",
              "      <td>0</td>\n",
              "      <td>...</td>\n",
              "      <td>1</td>\n",
              "      <td>0</td>\n",
              "      <td>0</td>\n",
              "      <td>1</td>\n",
              "      <td>0</td>\n",
              "      <td>0</td>\n",
              "      <td>1</td>\n",
              "      <td>0</td>\n",
              "      <td>1</td>\n",
              "      <td>0</td>\n",
              "    </tr>\n",
              "    <tr>\n",
              "      <th>9997</th>\n",
              "      <td>9998</td>\n",
              "      <td>2</td>\n",
              "      <td>1</td>\n",
              "      <td>4</td>\n",
              "      <td>57</td>\n",
              "      <td>0</td>\n",
              "      <td>0</td>\n",
              "      <td>0</td>\n",
              "      <td>0</td>\n",
              "      <td>0</td>\n",
              "      <td>...</td>\n",
              "      <td>0</td>\n",
              "      <td>0</td>\n",
              "      <td>0</td>\n",
              "      <td>1</td>\n",
              "      <td>0</td>\n",
              "      <td>1</td>\n",
              "      <td>1</td>\n",
              "      <td>0</td>\n",
              "      <td>1</td>\n",
              "      <td>0</td>\n",
              "    </tr>\n",
              "    <tr>\n",
              "      <th>9998</th>\n",
              "      <td>9999</td>\n",
              "      <td>3</td>\n",
              "      <td>1</td>\n",
              "      <td>1</td>\n",
              "      <td>49</td>\n",
              "      <td>0</td>\n",
              "      <td>0</td>\n",
              "      <td>0</td>\n",
              "      <td>0</td>\n",
              "      <td>0</td>\n",
              "      <td>...</td>\n",
              "      <td>1</td>\n",
              "      <td>0</td>\n",
              "      <td>0</td>\n",
              "      <td>1</td>\n",
              "      <td>1</td>\n",
              "      <td>0</td>\n",
              "      <td>1</td>\n",
              "      <td>0</td>\n",
              "      <td>1</td>\n",
              "      <td>0</td>\n",
              "    </tr>\n",
              "    <tr>\n",
              "      <th>9999</th>\n",
              "      <td>10000</td>\n",
              "      <td>3</td>\n",
              "      <td>1</td>\n",
              "      <td>2</td>\n",
              "      <td>52</td>\n",
              "      <td>3</td>\n",
              "      <td>0</td>\n",
              "      <td>0</td>\n",
              "      <td>0</td>\n",
              "      <td>0</td>\n",
              "      <td>...</td>\n",
              "      <td>0</td>\n",
              "      <td>0</td>\n",
              "      <td>0</td>\n",
              "      <td>1</td>\n",
              "      <td>1</td>\n",
              "      <td>1</td>\n",
              "      <td>1</td>\n",
              "      <td>1</td>\n",
              "      <td>1</td>\n",
              "      <td>0</td>\n",
              "    </tr>\n",
              "  </tbody>\n",
              "</table>\n",
              "<p>5 rows × 50 columns</p>\n",
              "</div>\n",
              "      <button class=\"colab-df-convert\" onclick=\"convertToInteractive('df-1956d304-a171-4b65-a95c-ef7cb12e9d5d')\"\n",
              "              title=\"Convert this dataframe to an interactive table.\"\n",
              "              style=\"display:none;\">\n",
              "        \n",
              "  <svg xmlns=\"http://www.w3.org/2000/svg\" height=\"24px\"viewBox=\"0 0 24 24\"\n",
              "       width=\"24px\">\n",
              "    <path d=\"M0 0h24v24H0V0z\" fill=\"none\"/>\n",
              "    <path d=\"M18.56 5.44l.94 2.06.94-2.06 2.06-.94-2.06-.94-.94-2.06-.94 2.06-2.06.94zm-11 1L8.5 8.5l.94-2.06 2.06-.94-2.06-.94L8.5 2.5l-.94 2.06-2.06.94zm10 10l.94 2.06.94-2.06 2.06-.94-2.06-.94-.94-2.06-.94 2.06-2.06.94z\"/><path d=\"M17.41 7.96l-1.37-1.37c-.4-.4-.92-.59-1.43-.59-.52 0-1.04.2-1.43.59L10.3 9.45l-7.72 7.72c-.78.78-.78 2.05 0 2.83L4 21.41c.39.39.9.59 1.41.59.51 0 1.02-.2 1.41-.59l7.78-7.78 2.81-2.81c.8-.78.8-2.07 0-2.86zM5.41 20L4 18.59l7.72-7.72 1.47 1.35L5.41 20z\"/>\n",
              "  </svg>\n",
              "      </button>\n",
              "      \n",
              "  <style>\n",
              "    .colab-df-container {\n",
              "      display:flex;\n",
              "      flex-wrap:wrap;\n",
              "      gap: 12px;\n",
              "    }\n",
              "\n",
              "    .colab-df-convert {\n",
              "      background-color: #E8F0FE;\n",
              "      border: none;\n",
              "      border-radius: 50%;\n",
              "      cursor: pointer;\n",
              "      display: none;\n",
              "      fill: #1967D2;\n",
              "      height: 32px;\n",
              "      padding: 0 0 0 0;\n",
              "      width: 32px;\n",
              "    }\n",
              "\n",
              "    .colab-df-convert:hover {\n",
              "      background-color: #E2EBFA;\n",
              "      box-shadow: 0px 1px 2px rgba(60, 64, 67, 0.3), 0px 1px 3px 1px rgba(60, 64, 67, 0.15);\n",
              "      fill: #174EA6;\n",
              "    }\n",
              "\n",
              "    [theme=dark] .colab-df-convert {\n",
              "      background-color: #3B4455;\n",
              "      fill: #D2E3FC;\n",
              "    }\n",
              "\n",
              "    [theme=dark] .colab-df-convert:hover {\n",
              "      background-color: #434B5C;\n",
              "      box-shadow: 0px 1px 3px 1px rgba(0, 0, 0, 0.15);\n",
              "      filter: drop-shadow(0px 1px 2px rgba(0, 0, 0, 0.3));\n",
              "      fill: #FFFFFF;\n",
              "    }\n",
              "  </style>\n",
              "\n",
              "      <script>\n",
              "        const buttonEl =\n",
              "          document.querySelector('#df-1956d304-a171-4b65-a95c-ef7cb12e9d5d button.colab-df-convert');\n",
              "        buttonEl.style.display =\n",
              "          google.colab.kernel.accessAllowed ? 'block' : 'none';\n",
              "\n",
              "        async function convertToInteractive(key) {\n",
              "          const element = document.querySelector('#df-1956d304-a171-4b65-a95c-ef7cb12e9d5d');\n",
              "          const dataTable =\n",
              "            await google.colab.kernel.invokeFunction('convertToInteractive',\n",
              "                                                     [key], {});\n",
              "          if (!dataTable) return;\n",
              "\n",
              "          const docLinkHtml = 'Like what you see? Visit the ' +\n",
              "            '<a target=\"_blank\" href=https://colab.research.google.com/notebooks/data_table.ipynb>data table notebook</a>'\n",
              "            + ' to learn more about interactive tables.';\n",
              "          element.innerHTML = '';\n",
              "          dataTable['output_type'] = 'display_data';\n",
              "          await google.colab.output.renderOutput(dataTable, element);\n",
              "          const docLink = document.createElement('div');\n",
              "          docLink.innerHTML = docLinkHtml;\n",
              "          element.appendChild(docLink);\n",
              "        }\n",
              "      </script>\n",
              "    </div>\n",
              "  </div>\n",
              "  "
            ]
          },
          "metadata": {},
          "execution_count": 29
        }
      ],
      "source": [
        "dataset.tail()"
      ]
    },
    {
      "cell_type": "code",
      "execution_count": 30,
      "metadata": {
        "colab": {
          "base_uri": "https://localhost:8080/",
          "height": 390
        },
        "id": "PzOcg0cOEolz",
        "outputId": "59f9d86f-f77b-4dde-a5c3-a8c27f69e0c5"
      },
      "outputs": [
        {
          "output_type": "execute_result",
          "data": {
            "text/plain": [
              "                id       NumDots  SubdomainLevel     PathLevel     UrlLength  \\\n",
              "count  10000.00000  10000.000000    10000.000000  10000.000000  10000.000000   \n",
              "mean    5000.50000      2.445100        0.586800      3.300300     70.264100   \n",
              "std     2886.89568      1.346836        0.751214      1.863241     33.369877   \n",
              "min        1.00000      1.000000        0.000000      0.000000     12.000000   \n",
              "25%     2500.75000      2.000000        0.000000      2.000000     48.000000   \n",
              "50%     5000.50000      2.000000        1.000000      3.000000     62.000000   \n",
              "75%     7500.25000      3.000000        1.000000      4.000000     84.000000   \n",
              "max    10000.00000     21.000000       14.000000     18.000000    253.000000   \n",
              "\n",
              "            NumDash  NumDashInHostname      AtSymbol   TildeSymbol  \\\n",
              "count  10000.000000       10000.000000  10000.000000  10000.000000   \n",
              "mean       1.818000           0.138900      0.000300      0.013100   \n",
              "std        3.106258           0.545744      0.017319      0.113709   \n",
              "min        0.000000           0.000000      0.000000      0.000000   \n",
              "25%        0.000000           0.000000      0.000000      0.000000   \n",
              "50%        0.000000           0.000000      0.000000      0.000000   \n",
              "75%        2.000000           0.000000      0.000000      0.000000   \n",
              "max       55.000000           9.000000      1.000000      1.000000   \n",
              "\n",
              "       NumUnderscore  ...  IframeOrFrame  MissingTitle  ImagesOnlyInForm  \\\n",
              "count    10000.00000  ...   10000.000000   10000.00000      10000.000000   \n",
              "mean         0.32320  ...       0.339600       0.03220          0.030400   \n",
              "std          1.11466  ...       0.473597       0.17654          0.171694   \n",
              "min          0.00000  ...       0.000000       0.00000          0.000000   \n",
              "25%          0.00000  ...       0.000000       0.00000          0.000000   \n",
              "50%          0.00000  ...       0.000000       0.00000          0.000000   \n",
              "75%          0.00000  ...       1.000000       0.00000          0.000000   \n",
              "max         18.00000  ...       1.000000       1.00000          1.000000   \n",
              "\n",
              "       SubdomainLevelRT   UrlLengthRT  PctExtResourceUrlsRT  \\\n",
              "count      10000.000000  10000.000000          10000.000000   \n",
              "mean           0.956600      0.020200              0.353300   \n",
              "std            0.248037      0.820036              0.888908   \n",
              "min           -1.000000     -1.000000             -1.000000   \n",
              "25%            1.000000     -1.000000             -1.000000   \n",
              "50%            1.000000      0.000000              1.000000   \n",
              "75%            1.000000      1.000000              1.000000   \n",
              "max            1.000000      1.000000              1.000000   \n",
              "\n",
              "       AbnormalExtFormActionR  ExtMetaScriptLinkRT  \\\n",
              "count            10000.000000         10000.000000   \n",
              "mean                 0.793200             0.173400   \n",
              "std                  0.521019             0.755771   \n",
              "min                 -1.000000            -1.000000   \n",
              "25%                  1.000000             0.000000   \n",
              "50%                  1.000000             0.000000   \n",
              "75%                  1.000000             1.000000   \n",
              "max                  1.000000             1.000000   \n",
              "\n",
              "       PctExtNullSelfRedirectHyperlinksRT   CLASS_LABEL  \n",
              "count                        10000.000000  10000.000000  \n",
              "mean                             0.314100      0.500000  \n",
              "std                              0.897843      0.500025  \n",
              "min                             -1.000000      0.000000  \n",
              "25%                             -1.000000      0.000000  \n",
              "50%                              1.000000      0.500000  \n",
              "75%                              1.000000      1.000000  \n",
              "max                              1.000000      1.000000  \n",
              "\n",
              "[8 rows x 50 columns]"
            ],
            "text/html": [
              "\n",
              "  <div id=\"df-ff49efde-358a-4209-a65d-109352273af9\">\n",
              "    <div class=\"colab-df-container\">\n",
              "      <div>\n",
              "<style scoped>\n",
              "    .dataframe tbody tr th:only-of-type {\n",
              "        vertical-align: middle;\n",
              "    }\n",
              "\n",
              "    .dataframe tbody tr th {\n",
              "        vertical-align: top;\n",
              "    }\n",
              "\n",
              "    .dataframe thead th {\n",
              "        text-align: right;\n",
              "    }\n",
              "</style>\n",
              "<table border=\"1\" class=\"dataframe\">\n",
              "  <thead>\n",
              "    <tr style=\"text-align: right;\">\n",
              "      <th></th>\n",
              "      <th>id</th>\n",
              "      <th>NumDots</th>\n",
              "      <th>SubdomainLevel</th>\n",
              "      <th>PathLevel</th>\n",
              "      <th>UrlLength</th>\n",
              "      <th>NumDash</th>\n",
              "      <th>NumDashInHostname</th>\n",
              "      <th>AtSymbol</th>\n",
              "      <th>TildeSymbol</th>\n",
              "      <th>NumUnderscore</th>\n",
              "      <th>...</th>\n",
              "      <th>IframeOrFrame</th>\n",
              "      <th>MissingTitle</th>\n",
              "      <th>ImagesOnlyInForm</th>\n",
              "      <th>SubdomainLevelRT</th>\n",
              "      <th>UrlLengthRT</th>\n",
              "      <th>PctExtResourceUrlsRT</th>\n",
              "      <th>AbnormalExtFormActionR</th>\n",
              "      <th>ExtMetaScriptLinkRT</th>\n",
              "      <th>PctExtNullSelfRedirectHyperlinksRT</th>\n",
              "      <th>CLASS_LABEL</th>\n",
              "    </tr>\n",
              "  </thead>\n",
              "  <tbody>\n",
              "    <tr>\n",
              "      <th>count</th>\n",
              "      <td>10000.00000</td>\n",
              "      <td>10000.000000</td>\n",
              "      <td>10000.000000</td>\n",
              "      <td>10000.000000</td>\n",
              "      <td>10000.000000</td>\n",
              "      <td>10000.000000</td>\n",
              "      <td>10000.000000</td>\n",
              "      <td>10000.000000</td>\n",
              "      <td>10000.000000</td>\n",
              "      <td>10000.00000</td>\n",
              "      <td>...</td>\n",
              "      <td>10000.000000</td>\n",
              "      <td>10000.00000</td>\n",
              "      <td>10000.000000</td>\n",
              "      <td>10000.000000</td>\n",
              "      <td>10000.000000</td>\n",
              "      <td>10000.000000</td>\n",
              "      <td>10000.000000</td>\n",
              "      <td>10000.000000</td>\n",
              "      <td>10000.000000</td>\n",
              "      <td>10000.000000</td>\n",
              "    </tr>\n",
              "    <tr>\n",
              "      <th>mean</th>\n",
              "      <td>5000.50000</td>\n",
              "      <td>2.445100</td>\n",
              "      <td>0.586800</td>\n",
              "      <td>3.300300</td>\n",
              "      <td>70.264100</td>\n",
              "      <td>1.818000</td>\n",
              "      <td>0.138900</td>\n",
              "      <td>0.000300</td>\n",
              "      <td>0.013100</td>\n",
              "      <td>0.32320</td>\n",
              "      <td>...</td>\n",
              "      <td>0.339600</td>\n",
              "      <td>0.03220</td>\n",
              "      <td>0.030400</td>\n",
              "      <td>0.956600</td>\n",
              "      <td>0.020200</td>\n",
              "      <td>0.353300</td>\n",
              "      <td>0.793200</td>\n",
              "      <td>0.173400</td>\n",
              "      <td>0.314100</td>\n",
              "      <td>0.500000</td>\n",
              "    </tr>\n",
              "    <tr>\n",
              "      <th>std</th>\n",
              "      <td>2886.89568</td>\n",
              "      <td>1.346836</td>\n",
              "      <td>0.751214</td>\n",
              "      <td>1.863241</td>\n",
              "      <td>33.369877</td>\n",
              "      <td>3.106258</td>\n",
              "      <td>0.545744</td>\n",
              "      <td>0.017319</td>\n",
              "      <td>0.113709</td>\n",
              "      <td>1.11466</td>\n",
              "      <td>...</td>\n",
              "      <td>0.473597</td>\n",
              "      <td>0.17654</td>\n",
              "      <td>0.171694</td>\n",
              "      <td>0.248037</td>\n",
              "      <td>0.820036</td>\n",
              "      <td>0.888908</td>\n",
              "      <td>0.521019</td>\n",
              "      <td>0.755771</td>\n",
              "      <td>0.897843</td>\n",
              "      <td>0.500025</td>\n",
              "    </tr>\n",
              "    <tr>\n",
              "      <th>min</th>\n",
              "      <td>1.00000</td>\n",
              "      <td>1.000000</td>\n",
              "      <td>0.000000</td>\n",
              "      <td>0.000000</td>\n",
              "      <td>12.000000</td>\n",
              "      <td>0.000000</td>\n",
              "      <td>0.000000</td>\n",
              "      <td>0.000000</td>\n",
              "      <td>0.000000</td>\n",
              "      <td>0.00000</td>\n",
              "      <td>...</td>\n",
              "      <td>0.000000</td>\n",
              "      <td>0.00000</td>\n",
              "      <td>0.000000</td>\n",
              "      <td>-1.000000</td>\n",
              "      <td>-1.000000</td>\n",
              "      <td>-1.000000</td>\n",
              "      <td>-1.000000</td>\n",
              "      <td>-1.000000</td>\n",
              "      <td>-1.000000</td>\n",
              "      <td>0.000000</td>\n",
              "    </tr>\n",
              "    <tr>\n",
              "      <th>25%</th>\n",
              "      <td>2500.75000</td>\n",
              "      <td>2.000000</td>\n",
              "      <td>0.000000</td>\n",
              "      <td>2.000000</td>\n",
              "      <td>48.000000</td>\n",
              "      <td>0.000000</td>\n",
              "      <td>0.000000</td>\n",
              "      <td>0.000000</td>\n",
              "      <td>0.000000</td>\n",
              "      <td>0.00000</td>\n",
              "      <td>...</td>\n",
              "      <td>0.000000</td>\n",
              "      <td>0.00000</td>\n",
              "      <td>0.000000</td>\n",
              "      <td>1.000000</td>\n",
              "      <td>-1.000000</td>\n",
              "      <td>-1.000000</td>\n",
              "      <td>1.000000</td>\n",
              "      <td>0.000000</td>\n",
              "      <td>-1.000000</td>\n",
              "      <td>0.000000</td>\n",
              "    </tr>\n",
              "    <tr>\n",
              "      <th>50%</th>\n",
              "      <td>5000.50000</td>\n",
              "      <td>2.000000</td>\n",
              "      <td>1.000000</td>\n",
              "      <td>3.000000</td>\n",
              "      <td>62.000000</td>\n",
              "      <td>0.000000</td>\n",
              "      <td>0.000000</td>\n",
              "      <td>0.000000</td>\n",
              "      <td>0.000000</td>\n",
              "      <td>0.00000</td>\n",
              "      <td>...</td>\n",
              "      <td>0.000000</td>\n",
              "      <td>0.00000</td>\n",
              "      <td>0.000000</td>\n",
              "      <td>1.000000</td>\n",
              "      <td>0.000000</td>\n",
              "      <td>1.000000</td>\n",
              "      <td>1.000000</td>\n",
              "      <td>0.000000</td>\n",
              "      <td>1.000000</td>\n",
              "      <td>0.500000</td>\n",
              "    </tr>\n",
              "    <tr>\n",
              "      <th>75%</th>\n",
              "      <td>7500.25000</td>\n",
              "      <td>3.000000</td>\n",
              "      <td>1.000000</td>\n",
              "      <td>4.000000</td>\n",
              "      <td>84.000000</td>\n",
              "      <td>2.000000</td>\n",
              "      <td>0.000000</td>\n",
              "      <td>0.000000</td>\n",
              "      <td>0.000000</td>\n",
              "      <td>0.00000</td>\n",
              "      <td>...</td>\n",
              "      <td>1.000000</td>\n",
              "      <td>0.00000</td>\n",
              "      <td>0.000000</td>\n",
              "      <td>1.000000</td>\n",
              "      <td>1.000000</td>\n",
              "      <td>1.000000</td>\n",
              "      <td>1.000000</td>\n",
              "      <td>1.000000</td>\n",
              "      <td>1.000000</td>\n",
              "      <td>1.000000</td>\n",
              "    </tr>\n",
              "    <tr>\n",
              "      <th>max</th>\n",
              "      <td>10000.00000</td>\n",
              "      <td>21.000000</td>\n",
              "      <td>14.000000</td>\n",
              "      <td>18.000000</td>\n",
              "      <td>253.000000</td>\n",
              "      <td>55.000000</td>\n",
              "      <td>9.000000</td>\n",
              "      <td>1.000000</td>\n",
              "      <td>1.000000</td>\n",
              "      <td>18.00000</td>\n",
              "      <td>...</td>\n",
              "      <td>1.000000</td>\n",
              "      <td>1.00000</td>\n",
              "      <td>1.000000</td>\n",
              "      <td>1.000000</td>\n",
              "      <td>1.000000</td>\n",
              "      <td>1.000000</td>\n",
              "      <td>1.000000</td>\n",
              "      <td>1.000000</td>\n",
              "      <td>1.000000</td>\n",
              "      <td>1.000000</td>\n",
              "    </tr>\n",
              "  </tbody>\n",
              "</table>\n",
              "<p>8 rows × 50 columns</p>\n",
              "</div>\n",
              "      <button class=\"colab-df-convert\" onclick=\"convertToInteractive('df-ff49efde-358a-4209-a65d-109352273af9')\"\n",
              "              title=\"Convert this dataframe to an interactive table.\"\n",
              "              style=\"display:none;\">\n",
              "        \n",
              "  <svg xmlns=\"http://www.w3.org/2000/svg\" height=\"24px\"viewBox=\"0 0 24 24\"\n",
              "       width=\"24px\">\n",
              "    <path d=\"M0 0h24v24H0V0z\" fill=\"none\"/>\n",
              "    <path d=\"M18.56 5.44l.94 2.06.94-2.06 2.06-.94-2.06-.94-.94-2.06-.94 2.06-2.06.94zm-11 1L8.5 8.5l.94-2.06 2.06-.94-2.06-.94L8.5 2.5l-.94 2.06-2.06.94zm10 10l.94 2.06.94-2.06 2.06-.94-2.06-.94-.94-2.06-.94 2.06-2.06.94z\"/><path d=\"M17.41 7.96l-1.37-1.37c-.4-.4-.92-.59-1.43-.59-.52 0-1.04.2-1.43.59L10.3 9.45l-7.72 7.72c-.78.78-.78 2.05 0 2.83L4 21.41c.39.39.9.59 1.41.59.51 0 1.02-.2 1.41-.59l7.78-7.78 2.81-2.81c.8-.78.8-2.07 0-2.86zM5.41 20L4 18.59l7.72-7.72 1.47 1.35L5.41 20z\"/>\n",
              "  </svg>\n",
              "      </button>\n",
              "      \n",
              "  <style>\n",
              "    .colab-df-container {\n",
              "      display:flex;\n",
              "      flex-wrap:wrap;\n",
              "      gap: 12px;\n",
              "    }\n",
              "\n",
              "    .colab-df-convert {\n",
              "      background-color: #E8F0FE;\n",
              "      border: none;\n",
              "      border-radius: 50%;\n",
              "      cursor: pointer;\n",
              "      display: none;\n",
              "      fill: #1967D2;\n",
              "      height: 32px;\n",
              "      padding: 0 0 0 0;\n",
              "      width: 32px;\n",
              "    }\n",
              "\n",
              "    .colab-df-convert:hover {\n",
              "      background-color: #E2EBFA;\n",
              "      box-shadow: 0px 1px 2px rgba(60, 64, 67, 0.3), 0px 1px 3px 1px rgba(60, 64, 67, 0.15);\n",
              "      fill: #174EA6;\n",
              "    }\n",
              "\n",
              "    [theme=dark] .colab-df-convert {\n",
              "      background-color: #3B4455;\n",
              "      fill: #D2E3FC;\n",
              "    }\n",
              "\n",
              "    [theme=dark] .colab-df-convert:hover {\n",
              "      background-color: #434B5C;\n",
              "      box-shadow: 0px 1px 3px 1px rgba(0, 0, 0, 0.15);\n",
              "      filter: drop-shadow(0px 1px 2px rgba(0, 0, 0, 0.3));\n",
              "      fill: #FFFFFF;\n",
              "    }\n",
              "  </style>\n",
              "\n",
              "      <script>\n",
              "        const buttonEl =\n",
              "          document.querySelector('#df-ff49efde-358a-4209-a65d-109352273af9 button.colab-df-convert');\n",
              "        buttonEl.style.display =\n",
              "          google.colab.kernel.accessAllowed ? 'block' : 'none';\n",
              "\n",
              "        async function convertToInteractive(key) {\n",
              "          const element = document.querySelector('#df-ff49efde-358a-4209-a65d-109352273af9');\n",
              "          const dataTable =\n",
              "            await google.colab.kernel.invokeFunction('convertToInteractive',\n",
              "                                                     [key], {});\n",
              "          if (!dataTable) return;\n",
              "\n",
              "          const docLinkHtml = 'Like what you see? Visit the ' +\n",
              "            '<a target=\"_blank\" href=https://colab.research.google.com/notebooks/data_table.ipynb>data table notebook</a>'\n",
              "            + ' to learn more about interactive tables.';\n",
              "          element.innerHTML = '';\n",
              "          dataTable['output_type'] = 'display_data';\n",
              "          await google.colab.output.renderOutput(dataTable, element);\n",
              "          const docLink = document.createElement('div');\n",
              "          docLink.innerHTML = docLinkHtml;\n",
              "          element.appendChild(docLink);\n",
              "        }\n",
              "      </script>\n",
              "    </div>\n",
              "  </div>\n",
              "  "
            ]
          },
          "metadata": {},
          "execution_count": 30
        }
      ],
      "source": [
        "dataset.describe()"
      ]
    },
    {
      "cell_type": "code",
      "execution_count": 31,
      "metadata": {
        "colab": {
          "base_uri": "https://localhost:8080/"
        },
        "id": "qyP3t6RaEsvV",
        "outputId": "19928532-8be4-4dcb-8cb9-48678296de10"
      },
      "outputs": [
        {
          "output_type": "stream",
          "name": "stdout",
          "text": [
            "<class 'pandas.core.frame.DataFrame'>\n",
            "RangeIndex: 10000 entries, 0 to 9999\n",
            "Data columns (total 50 columns):\n",
            " #   Column                              Non-Null Count  Dtype  \n",
            "---  ------                              --------------  -----  \n",
            " 0   id                                  10000 non-null  int64  \n",
            " 1   NumDots                             10000 non-null  int64  \n",
            " 2   SubdomainLevel                      10000 non-null  int64  \n",
            " 3   PathLevel                           10000 non-null  int64  \n",
            " 4   UrlLength                           10000 non-null  int64  \n",
            " 5   NumDash                             10000 non-null  int64  \n",
            " 6   NumDashInHostname                   10000 non-null  int64  \n",
            " 7   AtSymbol                            10000 non-null  int64  \n",
            " 8   TildeSymbol                         10000 non-null  int64  \n",
            " 9   NumUnderscore                       10000 non-null  int64  \n",
            " 10  NumPercent                          10000 non-null  int64  \n",
            " 11  NumQueryComponents                  10000 non-null  int64  \n",
            " 12  NumAmpersand                        10000 non-null  int64  \n",
            " 13  NumHash                             10000 non-null  int64  \n",
            " 14  NumNumericChars                     10000 non-null  int64  \n",
            " 15  NoHttps                             10000 non-null  int64  \n",
            " 16  RandomString                        10000 non-null  int64  \n",
            " 17  IpAddress                           10000 non-null  int64  \n",
            " 18  DomainInSubdomains                  10000 non-null  int64  \n",
            " 19  DomainInPaths                       10000 non-null  int64  \n",
            " 20  HttpsInHostname                     10000 non-null  int64  \n",
            " 21  HostnameLength                      10000 non-null  int64  \n",
            " 22  PathLength                          10000 non-null  int64  \n",
            " 23  QueryLength                         10000 non-null  int64  \n",
            " 24  DoubleSlashInPath                   10000 non-null  int64  \n",
            " 25  NumSensitiveWords                   10000 non-null  int64  \n",
            " 26  EmbeddedBrandName                   10000 non-null  int64  \n",
            " 27  PctExtHyperlinks                    10000 non-null  float64\n",
            " 28  PctExtResourceUrls                  10000 non-null  float64\n",
            " 29  ExtFavicon                          10000 non-null  int64  \n",
            " 30  InsecureForms                       10000 non-null  int64  \n",
            " 31  RelativeFormAction                  10000 non-null  int64  \n",
            " 32  ExtFormAction                       10000 non-null  int64  \n",
            " 33  AbnormalFormAction                  10000 non-null  int64  \n",
            " 34  PctNullSelfRedirectHyperlinks       10000 non-null  float64\n",
            " 35  FrequentDomainNameMismatch          10000 non-null  int64  \n",
            " 36  FakeLinkInStatusBar                 10000 non-null  int64  \n",
            " 37  RightClickDisabled                  10000 non-null  int64  \n",
            " 38  PopUpWindow                         10000 non-null  int64  \n",
            " 39  SubmitInfoToEmail                   10000 non-null  int64  \n",
            " 40  IframeOrFrame                       10000 non-null  int64  \n",
            " 41  MissingTitle                        10000 non-null  int64  \n",
            " 42  ImagesOnlyInForm                    10000 non-null  int64  \n",
            " 43  SubdomainLevelRT                    10000 non-null  int64  \n",
            " 44  UrlLengthRT                         10000 non-null  int64  \n",
            " 45  PctExtResourceUrlsRT                10000 non-null  int64  \n",
            " 46  AbnormalExtFormActionR              10000 non-null  int64  \n",
            " 47  ExtMetaScriptLinkRT                 10000 non-null  int64  \n",
            " 48  PctExtNullSelfRedirectHyperlinksRT  10000 non-null  int64  \n",
            " 49  CLASS_LABEL                         10000 non-null  int64  \n",
            "dtypes: float64(3), int64(47)\n",
            "memory usage: 3.8 MB\n"
          ]
        }
      ],
      "source": [
        " dataset.info()"
      ]
    },
    {
      "cell_type": "code",
      "execution_count": 32,
      "metadata": {
        "colab": {
          "base_uri": "https://localhost:8080/"
        },
        "id": "ULelw7odE5lw",
        "outputId": "4048e186-9f7b-490d-c7c6-c55000ed5c08"
      },
      "outputs": [
        {
          "output_type": "execute_result",
          "data": {
            "text/plain": [
              "id                                    0\n",
              "NumDots                               0\n",
              "SubdomainLevel                        0\n",
              "PathLevel                             0\n",
              "UrlLength                             0\n",
              "NumDash                               0\n",
              "NumDashInHostname                     0\n",
              "AtSymbol                              0\n",
              "TildeSymbol                           0\n",
              "NumUnderscore                         0\n",
              "NumPercent                            0\n",
              "NumQueryComponents                    0\n",
              "NumAmpersand                          0\n",
              "NumHash                               0\n",
              "NumNumericChars                       0\n",
              "NoHttps                               0\n",
              "RandomString                          0\n",
              "IpAddress                             0\n",
              "DomainInSubdomains                    0\n",
              "DomainInPaths                         0\n",
              "HttpsInHostname                       0\n",
              "HostnameLength                        0\n",
              "PathLength                            0\n",
              "QueryLength                           0\n",
              "DoubleSlashInPath                     0\n",
              "NumSensitiveWords                     0\n",
              "EmbeddedBrandName                     0\n",
              "PctExtHyperlinks                      0\n",
              "PctExtResourceUrls                    0\n",
              "ExtFavicon                            0\n",
              "InsecureForms                         0\n",
              "RelativeFormAction                    0\n",
              "ExtFormAction                         0\n",
              "AbnormalFormAction                    0\n",
              "PctNullSelfRedirectHyperlinks         0\n",
              "FrequentDomainNameMismatch            0\n",
              "FakeLinkInStatusBar                   0\n",
              "RightClickDisabled                    0\n",
              "PopUpWindow                           0\n",
              "SubmitInfoToEmail                     0\n",
              "IframeOrFrame                         0\n",
              "MissingTitle                          0\n",
              "ImagesOnlyInForm                      0\n",
              "SubdomainLevelRT                      0\n",
              "UrlLengthRT                           0\n",
              "PctExtResourceUrlsRT                  0\n",
              "AbnormalExtFormActionR                0\n",
              "ExtMetaScriptLinkRT                   0\n",
              "PctExtNullSelfRedirectHyperlinksRT    0\n",
              "CLASS_LABEL                           0\n",
              "dtype: int64"
            ]
          },
          "metadata": {},
          "execution_count": 32
        }
      ],
      "source": [
        "dataset.isnull().sum()"
      ]
    },
    {
      "cell_type": "code",
      "execution_count": 33,
      "metadata": {
        "colab": {
          "base_uri": "https://localhost:8080/",
          "height": 356
        },
        "id": "h3X6Mf8-GD-h",
        "outputId": "a0d698e6-792b-42a0-8404-89e812e61161"
      },
      "outputs": [
        {
          "output_type": "stream",
          "name": "stderr",
          "text": [
            "/usr/local/lib/python3.8/dist-packages/seaborn/distributions.py:2619: FutureWarning: `distplot` is a deprecated function and will be removed in a future version. Please adapt your code to use either `displot` (a figure-level function with similar flexibility) or `histplot` (an axes-level function for histograms).\n",
            "  warnings.warn(msg, FutureWarning)\n"
          ]
        },
        {
          "output_type": "execute_result",
          "data": {
            "text/plain": [
              "<matplotlib.axes._subplots.AxesSubplot at 0x7f31519a6a30>"
            ]
          },
          "metadata": {},
          "execution_count": 33
        },
        {
          "output_type": "display_data",
          "data": {
            "text/plain": [
              "<Figure size 432x288 with 1 Axes>"
            ],
            "image/png": "[encoded data removed]"
          },
          "metadata": {}
        }
      ],
      "source": [
        "sb.set()\n",
        "sb.distplot(dataset['UrlLength'])"
      ]
    },
    {
      "cell_type": "code",
      "execution_count": 34,
      "metadata": {
        "colab": {
          "base_uri": "https://localhost:8080/",
          "height": 356
        },
        "id": "ap5VzhAHHeMG",
        "outputId": "3c7172b1-cf04-4ec3-cc46-910fe762ffcd"
      },
      "outputs": [
        {
          "output_type": "stream",
          "name": "stderr",
          "text": [
            "/usr/local/lib/python3.8/dist-packages/seaborn/distributions.py:2619: FutureWarning: `distplot` is a deprecated function and will be removed in a future version. Please adapt your code to use either `displot` (a figure-level function with similar flexibility) or `histplot` (an axes-level function for histograms).\n",
            "  warnings.warn(msg, FutureWarning)\n"
          ]
        },
        {
          "output_type": "execute_result",
          "data": {
            "text/plain": [
              "<matplotlib.axes._subplots.AxesSubplot at 0x7f3148d2ddc0>"
            ]
          },
          "metadata": {},
          "execution_count": 34
        },
        {
          "output_type": "display_data",
          "data": {
            "text/plain": [
              "<Figure size 432x288 with 1 Axes>"
            ],
            "image/png": "[encoded data removed]"
          },
          "metadata": {}
        }
      ],
      "source": [
        "sb.set()\n",
        "sb.distplot(dataset['NumDots'])"
      ]
    },
    {
      "cell_type": "code",
      "execution_count": 35,
      "metadata": {
        "colab": {
          "base_uri": "https://localhost:8080/",
          "height": 356
        },
        "id": "_KfI3Ab2Hpgw",
        "outputId": "c3c68568-e129-45b0-ef01-a3873f55c413"
      },
      "outputs": [
        {
          "output_type": "stream",
          "name": "stderr",
          "text": [
            "/usr/local/lib/python3.8/dist-packages/seaborn/distributions.py:2619: FutureWarning: `distplot` is a deprecated function and will be removed in a future version. Please adapt your code to use either `displot` (a figure-level function with similar flexibility) or `histplot` (an axes-level function for histograms).\n",
            "  warnings.warn(msg, FutureWarning)\n"
          ]
        },
        {
          "output_type": "execute_result",
          "data": {
            "text/plain": [
              "<matplotlib.axes._subplots.AxesSubplot at 0x7f3148c68af0>"
            ]
          },
          "metadata": {},
          "execution_count": 35
        },
        {
          "output_type": "display_data",
          "data": {
            "text/plain": [
              "<Figure size 432x288 with 1 Axes>"
            ],
            "image/png": "[encoded data removed]"
          },
          "metadata": {}
        }
      ],
      "source": [
        "sb.set()\n",
        "sb.distplot(dataset['SubdomainLevel'])"
      ]
    },
    {
      "cell_type": "code",
      "execution_count": 36,
      "metadata": {
        "colab": {
          "base_uri": "https://localhost:8080/",
          "height": 356
        },
        "id": "Co497hHUHpvC",
        "outputId": "57ef3777-7409-4178-badb-a2d15348e224"
      },
      "outputs": [
        {
          "output_type": "stream",
          "name": "stderr",
          "text": [
            "/usr/local/lib/python3.8/dist-packages/seaborn/distributions.py:2619: FutureWarning: `distplot` is a deprecated function and will be removed in a future version. Please adapt your code to use either `displot` (a figure-level function with similar flexibility) or `histplot` (an axes-level function for histograms).\n",
            "  warnings.warn(msg, FutureWarning)\n"
          ]
        },
        {
          "output_type": "execute_result",
          "data": {
            "text/plain": [
              "<matplotlib.axes._subplots.AxesSubplot at 0x7f3148b6ddf0>"
            ]
          },
          "metadata": {},
          "execution_count": 36
        },
        {
          "output_type": "display_data",
          "data": {
            "text/plain": [
              "<Figure size 432x288 with 1 Axes>"
            ],
            "image/png": "[encoded data removed]"
          },
          "metadata": {}
        }
      ],
      "source": [
        "sb.set()\n",
        "sb.distplot(dataset['PathLevel'])"
      ]
    },
    {
      "cell_type": "code",
      "execution_count": 37,
      "metadata": {
        "colab": {
          "base_uri": "https://localhost:8080/",
          "height": 356
        },
        "id": "Q45cjTo_Hp2-",
        "outputId": "c8a674a0-fe61-4cc4-bce1-9a0761fb476b"
      },
      "outputs": [
        {
          "output_type": "stream",
          "name": "stderr",
          "text": [
            "/usr/local/lib/python3.8/dist-packages/seaborn/distributions.py:2619: FutureWarning: `distplot` is a deprecated function and will be removed in a future version. Please adapt your code to use either `displot` (a figure-level function with similar flexibility) or `histplot` (an axes-level function for histograms).\n",
            "  warnings.warn(msg, FutureWarning)\n"
          ]
        },
        {
          "output_type": "execute_result",
          "data": {
            "text/plain": [
              "<matplotlib.axes._subplots.AxesSubplot at 0x7f3148a53b50>"
            ]
          },
          "metadata": {},
          "execution_count": 37
        },
        {
          "output_type": "display_data",
          "data": {
            "text/plain": [
              "<Figure size 432x288 with 1 Axes>"
            ],
            "image/png": "[encoded data removed]"
          },
          "metadata": {}
        }
      ],
      "source": [
        "sb.set()\n",
        "sb.distplot(dataset['NumDash'])"
      ]
    },
    {
      "cell_type": "code",
      "execution_count": 38,
      "metadata": {
        "colab": {
          "base_uri": "https://localhost:8080/",
          "height": 356
        },
        "id": "VAzLdQ0qHp8c",
        "outputId": "72114a09-5fc7-4f21-b297-01be5c38ae6c"
      },
      "outputs": [
        {
          "output_type": "stream",
          "name": "stderr",
          "text": [
            "/usr/local/lib/python3.8/dist-packages/seaborn/distributions.py:2619: FutureWarning: `distplot` is a deprecated function and will be removed in a future version. Please adapt your code to use either `displot` (a figure-level function with similar flexibility) or `histplot` (an axes-level function for histograms).\n",
            "  warnings.warn(msg, FutureWarning)\n"
          ]
        },
        {
          "output_type": "execute_result",
          "data": {
            "text/plain": [
              "<matplotlib.axes._subplots.AxesSubplot at 0x7f31489936d0>"
            ]
          },
          "metadata": {},
          "execution_count": 38
        },
        {
          "output_type": "display_data",
          "data": {
            "text/plain": [
              "<Figure size 432x288 with 1 Axes>"
            ],
            "image/png": "[encoded data removed]"
          },
          "metadata": {}
        }
      ],
      "source": [
        "sb.set()\n",
        "sb.distplot(dataset['NumDashInHostname'])"
      ]
    },
    {
      "cell_type": "code",
      "execution_count": 39,
      "metadata": {
        "colab": {
          "base_uri": "https://localhost:8080/",
          "height": 356
        },
        "id": "fBuOR4-mIRPe",
        "outputId": "14535756-ff3a-4a56-9152-fefd93e83c04"
      },
      "outputs": [
        {
          "output_type": "stream",
          "name": "stderr",
          "text": [
            "/usr/local/lib/python3.8/dist-packages/seaborn/_decorators.py:36: FutureWarning: Pass the following variable as a keyword arg: x. From version 0.12, the only valid positional argument will be `data`, and passing other arguments without an explicit keyword will result in an error or misinterpretation.\n",
            "  warnings.warn(\n"
          ]
        },
        {
          "output_type": "execute_result",
          "data": {
            "text/plain": [
              "<matplotlib.axes._subplots.AxesSubplot at 0x7f31488840a0>"
            ]
          },
          "metadata": {},
          "execution_count": 39
        },
        {
          "output_type": "display_data",
          "data": {
            "text/plain": [
              "<Figure size 432x288 with 1 Axes>"
            ],
            "image/png": "[encoded data removed]"
          },
          "metadata": {}
        }
      ],
      "source": [
        "sb.set()\n",
        "sb.countplot(dataset['CLASS_LABEL'])"
      ]
    },
    {
      "cell_type": "markdown",
      "metadata": {
        "id": "pFCGOT5oROnw"
      },
      "source": [
        "CORRELATION"
      ]
    },
    {
      "cell_type": "code",
      "execution_count": 40,
      "metadata": {
        "colab": {
          "base_uri": "https://localhost:8080/",
          "height": 752
        },
        "id": "sNaXY9YAJAEN",
        "outputId": "82c916db-9284-4c1b-f392-515a9fd870de"
      },
      "outputs": [
        {
          "output_type": "execute_result",
          "data": {
            "text/plain": [
              "<matplotlib.axes._subplots.AxesSubplot at 0x7f31488f2550>"
            ]
          },
          "metadata": {},
          "execution_count": 40
        },
        {
          "output_type": "display_data",
          "data": {
            "text/plain": [
              "<Figure size 720x720 with 2 Axes>"
            ],
            "image/png": "[encoded data removed]"
          },
          "metadata": {}
        }
      ],
      "source": [
        "correlation = dataset.corr()\n",
        "plt.figure(figsize=[10,10])\n",
        "sb.heatmap(correlation,square=True)"
      ]
    },
    {
      "cell_type": "code",
      "execution_count": 41,
      "metadata": {
        "id": "s0sEP0mzJAVE"
      },
      "outputs": [],
      "source": [
        "#cause the correlation is least.\n",
        "dataset_updated = dataset.drop(columns={'HttpsInHostname'})"
      ]
    },
    {
      "cell_type": "code",
      "execution_count": 42,
      "metadata": {
        "colab": {
          "base_uri": "https://localhost:8080/",
          "height": 297
        },
        "id": "qsRm6HUmJAXq",
        "outputId": "cda97a92-eeaa-45c3-a302-84939ecdde5e"
      },
      "outputs": [
        {
          "output_type": "execute_result",
          "data": {
            "text/plain": [
              "   id  NumDots  SubdomainLevel  PathLevel  UrlLength  NumDash  \\\n",
              "0   1        3               1          5         72        0   \n",
              "1   2        3               1          3        144        0   \n",
              "2   3        3               1          2         58        0   \n",
              "3   4        3               1          6         79        1   \n",
              "4   5        3               0          4         46        0   \n",
              "\n",
              "   NumDashInHostname  AtSymbol  TildeSymbol  NumUnderscore  ...  \\\n",
              "0                  0         0            0              0  ...   \n",
              "1                  0         0            0              2  ...   \n",
              "2                  0         0            0              0  ...   \n",
              "3                  0         0            0              0  ...   \n",
              "4                  0         0            0              0  ...   \n",
              "\n",
              "   IframeOrFrame  MissingTitle  ImagesOnlyInForm  SubdomainLevelRT  \\\n",
              "0              0             0                 1                 1   \n",
              "1              0             0                 0                 1   \n",
              "2              0             0                 0                 1   \n",
              "3              0             0                 0                 1   \n",
              "4              1             0                 0                 1   \n",
              "\n",
              "   UrlLengthRT  PctExtResourceUrlsRT  AbnormalExtFormActionR  \\\n",
              "0            0                     1                       1   \n",
              "1           -1                     1                       1   \n",
              "2            0                    -1                       1   \n",
              "3           -1                     1                       1   \n",
              "4            1                    -1                       0   \n",
              "\n",
              "   ExtMetaScriptLinkRT  PctExtNullSelfRedirectHyperlinksRT  CLASS_LABEL  \n",
              "0                   -1                                   1            1  \n",
              "1                    1                                   1            1  \n",
              "2                   -1                                   0            1  \n",
              "3                    1                                  -1            1  \n",
              "4                   -1                                  -1            1  \n",
              "\n",
              "[5 rows x 49 columns]"
            ],
            "text/html": [
              "\n",
              "  <div id=\"df-b825df7f-26e9-4436-9d77-c8e68c19db50\">\n",
              "    <div class=\"colab-df-container\">\n",
              "      <div>\n",
              "<style scoped>\n",
              "    .dataframe tbody tr th:only-of-type {\n",
              "        vertical-align: middle;\n",
              "    }\n",
              "\n",
              "    .dataframe tbody tr th {\n",
              "        vertical-align: top;\n",
              "    }\n",
              "\n",
              "    .dataframe thead th {\n",
              "        text-align: right;\n",
              "    }\n",
              "</style>\n",
              "<table border=\"1\" class=\"dataframe\">\n",
              "  <thead>\n",
              "    <tr style=\"text-align: right;\">\n",
              "      <th></th>\n",
              "      <th>id</th>\n",
              "      <th>NumDots</th>\n",
              "      <th>SubdomainLevel</th>\n",
              "      <th>PathLevel</th>\n",
              "      <th>UrlLength</th>\n",
              "      <th>NumDash</th>\n",
              "      <th>NumDashInHostname</th>\n",
              "      <th>AtSymbol</th>\n",
              "      <th>TildeSymbol</th>\n",
              "      <th>NumUnderscore</th>\n",
              "      <th>...</th>\n",
              "      <th>IframeOrFrame</th>\n",
              "      <th>MissingTitle</th>\n",
              "      <th>ImagesOnlyInForm</th>\n",
              "      <th>SubdomainLevelRT</th>\n",
              "      <th>UrlLengthRT</th>\n",
              "      <th>PctExtResourceUrlsRT</th>\n",
              "      <th>AbnormalExtFormActionR</th>\n",
              "      <th>ExtMetaScriptLinkRT</th>\n",
              "      <th>PctExtNullSelfRedirectHyperlinksRT</th>\n",
              "      <th>CLASS_LABEL</th>\n",
              "    </tr>\n",
              "  </thead>\n",
              "  <tbody>\n",
              "    <tr>\n",
              "      <th>0</th>\n",
              "      <td>1</td>\n",
              "      <td>3</td>\n",
              "      <td>1</td>\n",
              "      <td>5</td>\n",
              "      <td>72</td>\n",
              "      <td>0</td>\n",
              "      <td>0</td>\n",
              "      <td>0</td>\n",
              "      <td>0</td>\n",
              "      <td>0</td>\n",
              "      <td>...</td>\n",
              "      <td>0</td>\n",
              "      <td>0</td>\n",
              "      <td>1</td>\n",
              "      <td>1</td>\n",
              "      <td>0</td>\n",
              "      <td>1</td>\n",
              "      <td>1</td>\n",
              "      <td>-1</td>\n",
              "      <td>1</td>\n",
              "      <td>1</td>\n",
              "    </tr>\n",
              "    <tr>\n",
              "      <th>1</th>\n",
              "      <td>2</td>\n",
              "      <td>3</td>\n",
              "      <td>1</td>\n",
              "      <td>3</td>\n",
              "      <td>144</td>\n",
              "      <td>0</td>\n",
              "      <td>0</td>\n",
              "      <td>0</td>\n",
              "      <td>0</td>\n",
              "      <td>2</td>\n",
              "      <td>...</td>\n",
              "      <td>0</td>\n",
              "      <td>0</td>\n",
              "      <td>0</td>\n",
              "      <td>1</td>\n",
              "      <td>-1</td>\n",
              "      <td>1</td>\n",
              "      <td>1</td>\n",
              "      <td>1</td>\n",
              "      <td>1</td>\n",
              "      <td>1</td>\n",
              "    </tr>\n",
              "    <tr>\n",
              "      <th>2</th>\n",
              "      <td>3</td>\n",
              "      <td>3</td>\n",
              "      <td>1</td>\n",
              "      <td>2</td>\n",
              "      <td>58</td>\n",
              "      <td>0</td>\n",
              "      <td>0</td>\n",
              "      <td>0</td>\n",
              "      <td>0</td>\n",
              "      <td>0</td>\n",
              "      <td>...</td>\n",
              "      <td>0</td>\n",
              "      <td>0</td>\n",
              "      <td>0</td>\n",
              "      <td>1</td>\n",
              "      <td>0</td>\n",
              "      <td>-1</td>\n",
              "      <td>1</td>\n",
              "      <td>-1</td>\n",
              "      <td>0</td>\n",
              "      <td>1</td>\n",
              "    </tr>\n",
              "    <tr>\n",
              "      <th>3</th>\n",
              "      <td>4</td>\n",
              "      <td>3</td>\n",
              "      <td>1</td>\n",
              "      <td>6</td>\n",
              "      <td>79</td>\n",
              "      <td>1</td>\n",
              "      <td>0</td>\n",
              "      <td>0</td>\n",
              "      <td>0</td>\n",
              "      <td>0</td>\n",
              "      <td>...</td>\n",
              "      <td>0</td>\n",
              "      <td>0</td>\n",
              "      <td>0</td>\n",
              "      <td>1</td>\n",
              "      <td>-1</td>\n",
              "      <td>1</td>\n",
              "      <td>1</td>\n",
              "      <td>1</td>\n",
              "      <td>-1</td>\n",
              "      <td>1</td>\n",
              "    </tr>\n",
              "    <tr>\n",
              "      <th>4</th>\n",
              "      <td>5</td>\n",
              "      <td>3</td>\n",
              "      <td>0</td>\n",
              "      <td>4</td>\n",
              "      <td>46</td>\n",
              "      <td>0</td>\n",
              "      <td>0</td>\n",
              "      <td>0</td>\n",
              "      <td>0</td>\n",
              "      <td>0</td>\n",
              "      <td>...</td>\n",
              "      <td>1</td>\n",
              "      <td>0</td>\n",
              "      <td>0</td>\n",
              "      <td>1</td>\n",
              "      <td>1</td>\n",
              "      <td>-1</td>\n",
              "      <td>0</td>\n",
              "      <td>-1</td>\n",
              "      <td>-1</td>\n",
              "      <td>1</td>\n",
              "    </tr>\n",
              "  </tbody>\n",
              "</table>\n",
              "<p>5 rows × 49 columns</p>\n",
              "</div>\n",
              "      <button class=\"colab-df-convert\" onclick=\"convertToInteractive('df-b825df7f-26e9-4436-9d77-c8e68c19db50')\"\n",
              "              title=\"Convert this dataframe to an interactive table.\"\n",
              "              style=\"display:none;\">\n",
              "        \n",
              "  <svg xmlns=\"http://www.w3.org/2000/svg\" height=\"24px\"viewBox=\"0 0 24 24\"\n",
              "       width=\"24px\">\n",
              "    <path d=\"M0 0h24v24H0V0z\" fill=\"none\"/>\n",
              "    <path d=\"M18.56 5.44l.94 2.06.94-2.06 2.06-.94-2.06-.94-.94-2.06-.94 2.06-2.06.94zm-11 1L8.5 8.5l.94-2.06 2.06-.94-2.06-.94L8.5 2.5l-.94 2.06-2.06.94zm10 10l.94 2.06.94-2.06 2.06-.94-2.06-.94-.94-2.06-.94 2.06-2.06.94z\"/><path d=\"M17.41 7.96l-1.37-1.37c-.4-.4-.92-.59-1.43-.59-.52 0-1.04.2-1.43.59L10.3 9.45l-7.72 7.72c-.78.78-.78 2.05 0 2.83L4 21.41c.39.39.9.59 1.41.59.51 0 1.02-.2 1.41-.59l7.78-7.78 2.81-2.81c.8-.78.8-2.07 0-2.86zM5.41 20L4 18.59l7.72-7.72 1.47 1.35L5.41 20z\"/>\n",
              "  </svg>\n",
              "      </button>\n",
              "      \n",
              "  <style>\n",
              "    .colab-df-container {\n",
              "      display:flex;\n",
              "      flex-wrap:wrap;\n",
              "      gap: 12px;\n",
              "    }\n",
              "\n",
              "    .colab-df-convert {\n",
              "      background-color: #E8F0FE;\n",
              "      border: none;\n",
              "      border-radius: 50%;\n",
              "      cursor: pointer;\n",
              "      display: none;\n",
              "      fill: #1967D2;\n",
              "      height: 32px;\n",
              "      padding: 0 0 0 0;\n",
              "      width: 32px;\n",
              "    }\n",
              "\n",
              "    .colab-df-convert:hover {\n",
              "      background-color: #E2EBFA;\n",
              "      box-shadow: 0px 1px 2px rgba(60, 64, 67, 0.3), 0px 1px 3px 1px rgba(60, 64, 67, 0.15);\n",
              "      fill: #174EA6;\n",
              "    }\n",
              "\n",
              "    [theme=dark] .colab-df-convert {\n",
              "      background-color: #3B4455;\n",
              "      fill: #D2E3FC;\n",
              "    }\n",
              "\n",
              "    [theme=dark] .colab-df-convert:hover {\n",
              "      background-color: #434B5C;\n",
              "      box-shadow: 0px 1px 3px 1px rgba(0, 0, 0, 0.15);\n",
              "      filter: drop-shadow(0px 1px 2px rgba(0, 0, 0, 0.3));\n",
              "      fill: #FFFFFF;\n",
              "    }\n",
              "  </style>\n",
              "\n",
              "      <script>\n",
              "        const buttonEl =\n",
              "          document.querySelector('#df-b825df7f-26e9-4436-9d77-c8e68c19db50 button.colab-df-convert');\n",
              "        buttonEl.style.display =\n",
              "          google.colab.kernel.accessAllowed ? 'block' : 'none';\n",
              "\n",
              "        async function convertToInteractive(key) {\n",
              "          const element = document.querySelector('#df-b825df7f-26e9-4436-9d77-c8e68c19db50');\n",
              "          const dataTable =\n",
              "            await google.colab.kernel.invokeFunction('convertToInteractive',\n",
              "                                                     [key], {});\n",
              "          if (!dataTable) return;\n",
              "\n",
              "          const docLinkHtml = 'Like what you see? Visit the ' +\n",
              "            '<a target=\"_blank\" href=https://colab.research.google.com/notebooks/data_table.ipynb>data table notebook</a>'\n",
              "            + ' to learn more about interactive tables.';\n",
              "          element.innerHTML = '';\n",
              "          dataTable['output_type'] = 'display_data';\n",
              "          await google.colab.output.renderOutput(dataTable, element);\n",
              "          const docLink = document.createElement('div');\n",
              "          docLink.innerHTML = docLinkHtml;\n",
              "          element.appendChild(docLink);\n",
              "        }\n",
              "      </script>\n",
              "    </div>\n",
              "  </div>\n",
              "  "
            ]
          },
          "metadata": {},
          "execution_count": 42
        }
      ],
      "source": [
        "dataset_updated.head()"
      ]
    },
    {
      "cell_type": "code",
      "execution_count": 43,
      "metadata": {
        "id": "SDnwm_QJN2bF"
      },
      "outputs": [],
      "source": [
        "y = dataset[\"CLASS_LABEL\"]\n",
        "x = dataset.drop([\"CLASS_LABEL\"],axis=1)"
      ]
    },
    {
      "cell_type": "code",
      "execution_count": 44,
      "metadata": {
        "id": "y3yHRz2wJAaY"
      },
      "outputs": [],
      "source": [
        "from sklearn.model_selection import train_test_split"
      ]
    },
    {
      "cell_type": "code",
      "execution_count": 45,
      "metadata": {
        "id": "w9drWBoCJAct"
      },
      "outputs": [],
      "source": [
        "x_train,x_test,y_train,y_test = train_test_split(x,y,test_size=0.2,random_state=0)"
      ]
    },
    {
      "cell_type": "code",
      "execution_count": 46,
      "metadata": {
        "colab": {
          "base_uri": "https://localhost:8080/"
        },
        "id": "EilBoxXjJAfs",
        "outputId": "9d723eea-5d66-4d3f-b94a-60174921462c"
      },
      "outputs": [
        {
          "output_type": "execute_result",
          "data": {
            "text/plain": [
              "0       1\n",
              "1       1\n",
              "2       1\n",
              "3       1\n",
              "4       1\n",
              "       ..\n",
              "9995    0\n",
              "9996    0\n",
              "9997    0\n",
              "9998    0\n",
              "9999    0\n",
              "Name: CLASS_LABEL, Length: 10000, dtype: int64"
            ]
          },
          "metadata": {},
          "execution_count": 46
        }
      ],
      "source": [
        "y"
      ]
    },
    {
      "cell_type": "markdown",
      "metadata": {
        "id": "jo3mAprdOlOK"
      },
      "source": [
        "# **Using Different Training Models**"
      ]
    },
    {
      "cell_type": "code",
      "source": [
        "acc = []\n",
        "model = []"
      ],
      "metadata": {
        "id": "64pCunnnm6fr"
      },
      "execution_count": 72,
      "outputs": []
    },
    {
      "cell_type": "markdown",
      "metadata": {
        "id": "qYj-9VgCO0A3"
      },
      "source": [
        "-> Logistic Regression"
      ]
    },
    {
      "cell_type": "code",
      "execution_count": 92,
      "metadata": {
        "colab": {
          "base_uri": "https://localhost:8080/"
        },
        "id": "qHWr-sTUJAiV",
        "outputId": "204b3090-fdb7-46b4-8fca-c30827c00c79"
      },
      "outputs": [
        {
          "output_type": "stream",
          "name": "stdout",
          "text": [
            "0.978\n"
          ]
        },
        {
          "output_type": "stream",
          "name": "stderr",
          "text": [
            "/usr/local/lib/python3.8/dist-packages/sklearn/linear_model/_logistic.py:814: ConvergenceWarning: lbfgs failed to converge (status=1):\n",
            "STOP: TOTAL NO. of ITERATIONS REACHED LIMIT.\n",
            "\n",
            "Increase the number of iterations (max_iter) or scale the data as shown in:\n",
            "    https://scikit-learn.org/stable/modules/preprocessing.html\n",
            "Please also refer to the documentation for alternative solver options:\n",
            "    https://scikit-learn.org/stable/modules/linear_model.html#logistic-regression\n",
            "  n_iter_i = _check_optimize_result(\n"
          ]
        }
      ],
      "source": [
        "from sklearn.linear_model import LogisticRegression\n",
        "from sklearn.metrics import accuracy_score\n",
        "lr = LogisticRegression()\n",
        "lr.fit(x_train,y_train)\n",
        "pred = lr.predict(x_test)\n",
        "acc.append(accuracy_score(pred,y_test))\n",
        "model.append('Logistic Regression')\n",
        "print(accuracy_score(pred,y_test))"
      ]
    },
    {
      "cell_type": "markdown",
      "metadata": {
        "id": "Nk6BzWVjP82N"
      },
      "source": [
        "-> Support Vector Machine"
      ]
    },
    {
      "cell_type": "code",
      "execution_count": 94,
      "metadata": {
        "colab": {
          "base_uri": "https://localhost:8080/"
        },
        "id": "6BuPmqQMQIy8",
        "outputId": "c7a5344b-a0dd-437e-d3e6-d3bb57aceac4"
      },
      "outputs": [
        {
          "output_type": "stream",
          "name": "stdout",
          "text": [
            "0.9995\n"
          ]
        }
      ],
      "source": [
        "from sklearn import svm\n",
        "sv = svm.SVC()\n",
        "sv.fit(x_train,y_train)\n",
        "pred_svm = sv.predict(x_test)\n",
        "acc.append(accuracy_score(pred_svm,y_test))\n",
        "model.append('Support Vector Machine')\n",
        "print(accuracy_score(pred_svm,y_test))"
      ]
    },
    {
      "cell_type": "code",
      "execution_count": 88,
      "metadata": {
        "colab": {
          "base_uri": "https://localhost:8080/"
        },
        "id": "0ABS-3XKBqLj",
        "outputId": "751ffc81-b908-4693-cd65-2967abd86131"
      },
      "outputs": [
        {
          "output_type": "stream",
          "name": "stdout",
          "text": [
            "[[1012    1]\n",
            " [   0  987]] \n",
            "               precision    recall  f1-score   support\n",
            "\n",
            "           0       1.00      1.00      1.00      1013\n",
            "           1       1.00      1.00      1.00       987\n",
            "\n",
            "    accuracy                           1.00      2000\n",
            "   macro avg       1.00      1.00      1.00      2000\n",
            "weighted avg       1.00      1.00      1.00      2000\n",
            "\n"
          ]
        }
      ],
      "source": [
        "from sklearn.metrics import classification_report,confusion_matrix\n",
        "classification_svm = classification_report(pred_svm,y_test)\n",
        "confusion_svm = confusion_matrix(pred_svm,y_test)\n",
        "print(confusion_svm,\"\\n\",classification_svm)"
      ]
    },
    {
      "cell_type": "markdown",
      "metadata": {
        "id": "uR8CtsbETmbb"
      },
      "source": [
        "-> KNN"
      ]
    },
    {
      "cell_type": "code",
      "execution_count": 95,
      "metadata": {
        "colab": {
          "base_uri": "https://localhost:8080/"
        },
        "id": "NVVsSbbuTlpc",
        "outputId": "a73b0e8b-c68b-4f9c-91fe-fef362320f01"
      },
      "outputs": [
        {
          "output_type": "stream",
          "name": "stdout",
          "text": [
            "0.9554658031112366\n"
          ]
        }
      ],
      "source": [
        "from sklearn import neighbors\n",
        "from sklearn.metrics import mean_absolute_error, mean_squared_error\n",
        "from math import sqrt\n",
        "\n",
        "for K in range(1000):\n",
        "    K = K+100\n",
        "    knn = neighbors.KNeighborsRegressor(n_neighbors = K)\n",
        "    knn.fit(x_train, y_train) \n",
        "\n",
        "pred_knn=knn.predict(x_test)\n",
        "acc.append(knn.score(x_test, y_test))\n",
        "model.append('KNN')\n",
        "print(knn.score(x_test, y_test)) \n",
        "\n",
        "\n"
      ]
    },
    {
      "cell_type": "markdown",
      "metadata": {
        "id": "GSQ4pFl6QUCT"
      },
      "source": [
        "-> XGBoost"
      ]
    },
    {
      "cell_type": "code",
      "execution_count": 96,
      "metadata": {
        "colab": {
          "base_uri": "https://localhost:8080/"
        },
        "id": "Yd1itet7QJW9",
        "outputId": "38fd5b1f-92cc-4232-d29b-d1ecd6cf7a72"
      },
      "outputs": [
        {
          "output_type": "stream",
          "name": "stdout",
          "text": [
            "0.9995\n"
          ]
        }
      ],
      "source": [
        "from xgboost import XGBClassifier\n",
        "xg = XGBClassifier()\n",
        "xg.fit(x_train,y_train)\n",
        "pred_xg = xg.predict(x_test)\n",
        "acc.append(accuracy_score(pred_xg,y_test))\n",
        "model.append('XGBoost')\n",
        "print(accuracy_score(pred_xg,y_test))"
      ]
    },
    {
      "cell_type": "markdown",
      "metadata": {
        "id": "R2Icel0FSKSr"
      },
      "source": [
        "Confusion Matrix for XGB Classifier"
      ]
    },
    {
      "cell_type": "code",
      "execution_count": 83,
      "metadata": {
        "colab": {
          "base_uri": "https://localhost:8080/"
        },
        "id": "j9JcxhiKQJrY",
        "outputId": "3c63f3ad-ab19-4321-ebad-c052e482bc45"
      },
      "outputs": [
        {
          "output_type": "stream",
          "name": "stdout",
          "text": [
            "[[1012    1]\n",
            " [   0  987]] \n",
            "               precision    recall  f1-score   support\n",
            "\n",
            "           0       1.00      1.00      1.00      1013\n",
            "           1       1.00      1.00      1.00       987\n",
            "\n",
            "    accuracy                           1.00      2000\n",
            "   macro avg       1.00      1.00      1.00      2000\n",
            "weighted avg       1.00      1.00      1.00      2000\n",
            "\n"
          ]
        }
      ],
      "source": [
        "from sklearn.metrics import classification_report,confusion_matrix\n",
        "classification_xgb = classification_report(pred_xg,y_test)\n",
        "confusion_xgb = confusion_matrix(pred_xg,y_test)\n",
        "print(confusion_xgb,\"\\n\",classification_xgb)"
      ]
    },
    {
      "cell_type": "markdown",
      "source": [
        "### Accuracy Comparison"
      ],
      "metadata": {
        "id": "UFiRspUVn9L1"
      }
    },
    {
      "cell_type": "code",
      "source": [
        "accuracy_models = dict(zip(model, acc))\n",
        "for k, v in accuracy_models.items():\n",
        "    print (k, '-->', v)"
      ],
      "metadata": {
        "colab": {
          "base_uri": "https://localhost:8080/"
        },
        "id": "afjCraCKoAgV",
        "outputId": "02da1e82-d1b5-4095-fd86-c3c7d9a71ac1"
      },
      "execution_count": 98,
      "outputs": [
        {
          "output_type": "stream",
          "name": "stdout",
          "text": [
            "Logistic Regression --> 0.978\n",
            "Support Vector Machine --> 0.9995\n",
            "KNN --> 0.9554658031112366\n",
            "XGBoost --> 0.9995\n"
          ]
        }
      ]
    }
  ],
  "metadata": {
    "colab": {
      "provenance": []
    },
    "kernelspec": {
      "display_name": "Python 3",
      "name": "python3"
    },
    "language_info": {
      "name": "python"
    }
  },
  "nbformat": 4,
  "nbformat_minor": 0
}